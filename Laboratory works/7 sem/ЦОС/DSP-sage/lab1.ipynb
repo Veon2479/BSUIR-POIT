{
 "cells": [
  {
   "cell_type": "code",
   "execution_count": 1,
   "id": "6b145455-95c9-4fa1-964f-51263ce38d20",
   "metadata": {},
   "outputs": [],
   "source": [
    "import numpy as np\n",
    "import math\n",
    "import matplotlib.pyplot as plt\n",
    "import random as rnd\n",
    "from ipywidgets import interactive, Checkbox"
   ]
  },
  {
   "cell_type": "code",
   "execution_count": 2,
   "id": "ce00deb5-f1e6-4714-bdd1-07dcd8204de4",
   "metadata": {},
   "outputs": [],
   "source": [
    "x = np.linspace(0, 25, num=1000)"
   ]
  },
  {
   "cell_type": "code",
   "execution_count": 3,
   "id": "eaa69b71-2af0-4768-ba6d-fc8055a02b4a",
   "metadata": {},
   "outputs": [],
   "source": [
    "def getSin(x):\n",
    "    return np.sin(x)"
   ]
  },
  {
   "cell_type": "code",
   "execution_count": 4,
   "id": "6eb8756f-510b-4424-8396-ddcf8e43cb43",
   "metadata": {},
   "outputs": [],
   "source": [
    "def getNoise(x):\n",
    "    y = np.empty(len(x))\n",
    "    for i in range(len(y)):\n",
    "        y[i] = rnd.random()\n",
    "    return y"
   ]
  },
  {
   "cell_type": "code",
   "execution_count": 5,
   "id": "6a8ce7b1-4e66-4a3b-b81f-626710fcaf13",
   "metadata": {},
   "outputs": [],
   "source": [
    "def getSaw(x, a=1, b=0.1, cur=0, mod=20):\n",
    "    y = np.empty(len(x))\n",
    "    for i in range(len(y)):\n",
    "        cur = (a * cur + b)\n",
    "        if cur >= mod:\n",
    "            cur -= mod\n",
    "        y[i] = cur\n",
    "    return y"
   ]
  },
  {
   "cell_type": "code",
   "execution_count": 6,
   "id": "7c9d33da-5a92-4640-9f53-134f636e6f24",
   "metadata": {},
   "outputs": [],
   "source": [
    "def getTriangle(x, a=1, b=0.1, cur=0, mod=10):\n",
    "    y = np.empty(len(x))\n",
    "    for i in range(len(y)):\n",
    "        cur = (a * cur + b)\n",
    "        if cur >= mod or cur <= 0:\n",
    "            b = -b\n",
    "        y[i] = cur\n",
    "    return y"
   ]
  },
  {
   "cell_type": "code",
   "execution_count": 7,
   "id": "712288b1-1a4e-419f-b6e0-9d8d7d4f978c",
   "metadata": {},
   "outputs": [],
   "source": [
    "def getImpulse(x, S=2, min=0, max=10, k=100):\n",
    "    y = np.empty(len(x))\n",
    "    cnt = 0\n",
    "    for i in range(len(y)):\n",
    "        if cnt < k:\n",
    "            y[i] = min\n",
    "            cnt-=-1\n",
    "        else:\n",
    "            y[i] = max\n",
    "            cnt-=-1\n",
    "            cnt%=(S*k)\n",
    "    return y"
   ]
  },
  {
   "cell_type": "code",
   "execution_count": 8,
   "id": "53576960-74d1-456a-939e-e4e4b3ae783c",
   "metadata": {},
   "outputs": [
    {
     "data": {
      "application/vnd.jupyter.widget-view+json": {
       "model_id": "95058a7318f245398a7beb32bae3ba27",
       "version_major": 2,
       "version_minor": 0
      },
      "text/plain": [
       "interactive(children=(Checkbox(value=False, description='Sin signal'), Checkbox(value=False, description='Impulse signal'), Checkbox(value=False, description='Triangle signal'), Checkbox(value=False, description='Saw signal'), Checkbox(value=False, description='Noise signal'), Output()), _dom_classes=('widget-interact',))"
      ]
     },
     "metadata": {},
     "output_type": "display_data"
    }
   ],
   "source": [
    "def generate_plot(checkbox1_value, checkbox2_value, checkbox3_value, checkbox4_value, checkbox5_value):\n",
    "    y = np.empty(len(x))\n",
    "    for i in range(len(y)):\n",
    "        y[i] = 0\n",
    "    if (checkbox1_value):\n",
    "        y += getSin(x)\n",
    "    if (checkbox2_value):\n",
    "        y += getImpulse(x)\n",
    "    if (checkbox3_value):\n",
    "        y += getTriangle(x)\n",
    "    if (checkbox4_value):\n",
    "        y += getSaw(x)\n",
    "    if (checkbox5_value):\n",
    "        y += getNoise(x)\n",
    "    plt.plot(x, y)\n",
    "    pass\n",
    "\n",
    "checkbox1 = Checkbox(value=False, description='Sin signal')\n",
    "checkbox2 = Checkbox(value=False, description='Impulse signal')\n",
    "checkbox3 = Checkbox(value=False, description='Triangle signal')\n",
    "checkbox4 = Checkbox(value=False, description='Saw signal')\n",
    "checkbox5 = Checkbox(value=False, description='Noise signal')\n",
    "\n",
    "\n",
    "plot = interactive(generate_plot,  checkbox1_value=checkbox1, \n",
    "                                   checkbox2_value=checkbox2, \n",
    "                                   checkbox3_value=checkbox3, \n",
    "                                   checkbox4_value=checkbox4,\n",
    "                                   checkbox5_value=checkbox5)\n",
    "\n",
    "display(plot)"
   ]
  }
 ],
 "metadata": {
  "kernelspec": {
   "display_name": "SageMath 10.0",
   "language": "sage",
   "name": "sagemath"
  },
  "language_info": {
   "codemirror_mode": {
    "name": "ipython",
    "version": 3
   },
   "file_extension": ".py",
   "mimetype": "text/x-python",
   "name": "python",
   "nbconvert_exporter": "python",
   "pygments_lexer": "ipython3",
   "version": "3.11.6"
  }
 },
 "nbformat": 4,
 "nbformat_minor": 5
}
