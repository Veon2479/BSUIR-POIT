{
 "cells": [
  {
   "cell_type": "code",
   "execution_count": 1,
   "id": "f12c7d58-3635-42fd-8921-0106cd96942d",
   "metadata": {},
   "outputs": [],
   "source": [
    "from random import random\n",
    "import math"
   ]
  },
  {
   "cell_type": "code",
   "execution_count": 2,
   "id": "3321e479-a4ce-4bd7-9614-bdbc54c115f3",
   "metadata": {},
   "outputs": [],
   "source": [
    "def get_time(l):\n",
    "    r = random()\n",
    "    return (-1 / l) * math.log(r)\n",
    "\n",
    "def is_zero(f):\n",
    "    return (f < 10e-12)"
   ]
  },
  {
   "cell_type": "code",
   "execution_count": 3,
   "id": "e230d018-e8eb-4fa4-84c0-9ef3adb0af84",
   "metadata": {},
   "outputs": [],
   "source": [
    "class sim:\n",
    "\n",
    "    # params\n",
    "    lin = 1.5\n",
    "    lout = 2\n",
    "    avgw = 0.4\n",
    "    \n",
    "    ls = [lin, 1 / avgw, lout]\n",
    "\n",
    "    # state\n",
    "    time = [0.0] * 3 # [0] is input, [1] is warm-up, [2] is out element\n",
    "\n",
    "    qlen = 0\n",
    "    isCold = True\n",
    "    isEmpty = True\n",
    "    isWarming = False\n",
    "\n",
    "    # stats\n",
    "    generated = 0\n",
    "    finished = 0\n",
    "    elapsed = 0.0\n",
    "\n",
    "    def run_sim(self, iterations):\n",
    "\n",
    "        for c in range(iterations):\n",
    "        \n",
    "            min_t = math.inf\n",
    "            \n",
    "            for i in range(len(self.time)):\n",
    "                # if is_zero(time[i]):\n",
    "                #     time[i] = get_time(ls[i])\n",
    "                if (min_t > self.time[i] and self.time[i] != 0):\n",
    "                    min_t = self.time[i]\n",
    "\n",
    "            if (min_t == math.inf):\n",
    "                min_t = 0\n",
    "            self.elapsed += min_t           \n",
    "\n",
    "            for i in range(len(self.time) - 1, -1, -1):\n",
    "                self.time[i] -= min_t\n",
    "                if (self.time[i] < 0):\n",
    "                    self.time[i] = 0\n",
    "                \n",
    "            for i in range(len(self.time) - 1, -1, -1):\n",
    "                if (i == 2):\n",
    "                    if (is_zero(self.time[2])):\n",
    "                        if (self.isEmpty == False):\n",
    "                            self.isEmpty = True\n",
    "                            self.finished += 1\n",
    "                        else:\n",
    "                            self.isCold = True\n",
    "\n",
    "                if (i == 1):\n",
    "                    if (is_zero(self.time[1])):\n",
    "                        if (self.qlen != 0):\n",
    "                            if (self.isCold):\n",
    "                                self.isWarming = True\n",
    "                                self.time[1] = get_time(self.ls[1])\n",
    "                            else:\n",
    "                                if (self.isWarming == True):\n",
    "                                    self.isWarming = False\n",
    "                                    self.isCold = False\n",
    "                                    self.qlen -= 1\n",
    "                                    self.time[2] = get_time(self.ls[2]) \n",
    "                                    self.isEmpty = False\n",
    "\n",
    "\n",
    "                if (i == 0):\n",
    "                    if (is_zero(self.time[0])):\n",
    "                        if (self.isCold):\n",
    "                            self.qlen += 1\n",
    "                            self.isWarming = True\n",
    "                            self.time[1] = get_time(self.ls[1])\n",
    "                        else:\n",
    "                            if (self.isEmpty):\n",
    "                                self.time[2] = get_time(self.ls[2])    \n",
    "                                self.isEmpty = False\n",
    "                            else:\n",
    "                                self.qlen += 1\n",
    "                        self.generated += 1\n",
    "                        self.time[0] = get_time(self.ls[0])\n",
    "\n",
    "        print(f'Time elapsed: {self.elapsed}')\n",
    "        print()\n",
    "        print(f'Generated reqs: {self.generated}')\n",
    "        print(f'Finished  reqs: {self.finished}')\n",
    "        print(f'Computing reqs: {self.generated-self.finished}')\n",
    "        print()\n",
    "        print(f'Queue length: {self.qlen}')\n",
    "\n",
    "    "
   ]
  },
  {
   "cell_type": "code",
   "execution_count": 4,
   "id": "4776d983-b3f7-408e-b431-8b002a7c6545",
   "metadata": {},
   "outputs": [],
   "source": [
    "s = sim()"
   ]
  },
  {
   "cell_type": "code",
   "execution_count": 36,
   "id": "92b4303e-04e7-474f-985a-7bb47fb3bba6",
   "metadata": {},
   "outputs": [
    {
     "name": "stdout",
     "output_type": "stream",
     "text": [
      "Time elapsed: 81.20785202352103\n",
      "\n",
      "Generated reqs: 117\n",
      "Finished  reqs: 0\n",
      "Computing reqs: 117\n",
      "\n",
      "Queue length: 117\n"
     ]
    }
   ],
   "source": [
    "s.run_sim(10)"
   ]
  }
 ],
 "metadata": {
  "kernelspec": {
   "display_name": "Python 3 (ipykernel)",
   "language": "python",
   "name": "python3"
  },
  "language_info": {
   "codemirror_mode": {
    "name": "ipython",
    "version": 3
   },
   "file_extension": ".py",
   "mimetype": "text/x-python",
   "name": "python",
   "nbconvert_exporter": "python",
   "pygments_lexer": "ipython3",
   "version": "3.11.6"
  }
 },
 "nbformat": 4,
 "nbformat_minor": 5
}
