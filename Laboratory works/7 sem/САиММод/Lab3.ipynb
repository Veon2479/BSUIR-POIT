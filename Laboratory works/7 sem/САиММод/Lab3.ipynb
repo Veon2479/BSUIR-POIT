{
 "cells": [
  {
   "cell_type": "code",
   "execution_count": 1,
   "id": "dc8b6f13-c20e-4908-ac08-2399ea08cb3c",
   "metadata": {},
   "outputs": [],
   "source": [
    "import random\n",
    "\n",
    "# dynamic\n",
    "p1 = 0.5\n",
    "p2 = 0.5\n",
    "\n",
    "# statuc\n",
    "qlen = 1\n",
    "sper = 2\n",
    "\n",
    "# states\n",
    "p1Empty = True\n",
    "p2Empty = True\n",
    "qCount = 0\n",
    "\n",
    "# stats\n",
    "generated = 0\n",
    "denied = 0\n",
    "computed = 0\n",
    "avgQ = 0\n",
    "avgT = 0\n",
    "tacts = 0\n",
    "\n",
    "cntQ = 0"
   ]
  },
  {
   "cell_type": "code",
   "execution_count": 2,
   "id": "32458345-ea4b-4709-b428-59454146d38e",
   "metadata": {},
   "outputs": [],
   "source": [
    "def runFor(cycles):\n",
    "    global p1Empty\n",
    "    global p2Empty\n",
    "    global qCount\n",
    "    global denied\n",
    "    global generated\n",
    "    global computed\n",
    "    global avgQ\n",
    "    global avgT\n",
    "    global tacts\n",
    "    global cntQ\n",
    "    tacts += cycles\n",
    "    for i in range(cycles):\n",
    "        # 2-nd worker\n",
    "        if p2Empty != True and (random.random() >= p2):\n",
    "            p2Empty = True\n",
    "            computed += 1\n",
    "            \n",
    "        # queue\n",
    "        if qCount > 0 and p2Empty:\n",
    "            p2Empty = False\n",
    "            qCount -= 1        \n",
    "\n",
    "        # 1-st worker\n",
    "        if (p1Empty != True) and (random.random() >= p1):\n",
    "            p1Empty = True\n",
    "            if (qCount < qlen):\n",
    "                qCount += 1\n",
    "                cntQ += 1\n",
    "            else:\n",
    "                denied += 1\n",
    "\n",
    "        # queue additional!\n",
    "        if (qCount != 0 and p2Empty):\n",
    "            p2Empty = False\n",
    "            qCount -= 1\n",
    "\n",
    "        # generator\n",
    "        if (i % sper == 0):\n",
    "            generated += 1\n",
    "\n",
    "            if (p1Empty):\n",
    "                p1Empty = False\n",
    "            else:\n",
    "                denied += 1\n",
    "\n",
    "        #stats\n",
    "        avgQ += qCount\n",
    "        avgT += qCount\n",
    "        if not p1Empty:\n",
    "            avgT += 1\n",
    "        if not p2Empty:\n",
    "            avgT += 1"
   ]
  },
  {
   "cell_type": "code",
   "execution_count": 3,
   "id": "04db9440-a40c-4854-b2e3-9b0481b5435f",
   "metadata": {
    "scrolled": true
   },
   "outputs": [
    {
     "name": "stdout",
     "output_type": "stream",
     "text": [
      "total reqs: 5000000\n",
      "Denied: 1534923, perc: 30.69846 %\n",
      "Computed: 3465075, perc: 69.3015 %\n",
      "\n",
      "Reqs in system: 2\n",
      "Worker1 has 0\n",
      "Queue   has 1/1\n",
      "Worker2 has 1\n",
      "\n",
      "Avg reqs total: 1.6639605\n",
      "Avg queue     : 0.2213287\n",
      "\n",
      "Avg queue ll: 0.6387410727092068\n",
      "Avg total ll: 3.327921\n"
     ]
    }
   ],
   "source": [
    "runFor(10000000)\n",
    "print(f'total reqs: {generated}')\n",
    "print(f'Denied: {denied}, perc: {denied * 100.0 / generated} %')\n",
    "print(f'Computed: {computed}, perc: {computed * 100.0 / generated} %')\n",
    "print()\n",
    "print(f'Reqs in system: {generated - (computed + denied)}')\n",
    "print(f'Worker1 has {0 if p1Empty else 1}')\n",
    "print(f'Queue   has {qCount}/{qlen}')\n",
    "print(f'Worker2 has {0 if p2Empty else 1}')\n",
    "print()\n",
    "print(f'Avg reqs total: {avgT * 1.0 / tacts}')\n",
    "print(f'Avg queue     : {avgQ * 1.0 / tacts}')\n",
    "print()\n",
    "print(f'Avg queue ll: {avgQ * 1.0 / cntQ}')\n",
    "print(f'Avg total ll: {avgT * 1.0 / generated}')"
   ]
  },
  {
   "cell_type": "code",
   "execution_count": 4,
   "id": "f8c07e61-38f7-4195-ad82-69e4df2481c8",
   "metadata": {},
   "outputs": [],
   "source": [
    "p3 = 43/262\n",
    "p4 = 3/131\n",
    "p5 = 14/131\n",
    "p6 = 12/131\n",
    "p7 = 11/131\n",
    "p8 = 75/524\n",
    "p9 = 32/131\n",
    "p10 = 75/524"
   ]
  },
  {
   "cell_type": "code",
   "execution_count": 6,
   "id": "6ade8e35-aa9f-4fa2-9d12-e0d465789526",
   "metadata": {},
   "outputs": [
    {
     "data": {
      "text/plain": [
       "0.34637404580152675"
      ]
     },
     "execution_count": 6,
     "metadata": {},
     "output_type": "execute_result"
    }
   ],
   "source": [
    "A = (1- p2) * (p8 + p9 + p7 + p5 + p6 + p4)\n",
    "A"
   ]
  },
  {
   "cell_type": "code",
   "execution_count": 8,
   "id": "82583e4d-79e2-400a-bb3e-4687ca0205c4",
   "metadata": {},
   "outputs": [
    {
     "data": {
      "text/plain": [
       "0.6927480916030535"
      ]
     },
     "execution_count": 8,
     "metadata": {},
     "output_type": "execute_result"
    }
   ],
   "source": [
    "Q = A / (1 / 2)\n",
    "Q"
   ]
  },
  {
   "cell_type": "code",
   "execution_count": 10,
   "id": "eae1bf97-6eab-4dfc-bf46-f1978c1ec68c",
   "metadata": {},
   "outputs": [
    {
     "data": {
      "text/plain": [
       "0.3072519083969465"
      ]
     },
     "execution_count": 10,
     "metadata": {},
     "output_type": "execute_result"
    }
   ],
   "source": [
    "P_den = 1 - Q\n",
    "P_den"
   ]
  },
  {
   "cell_type": "code",
   "execution_count": 12,
   "id": "3c6d867c-7032-4b4f-8ecc-28af3e1b43f2",
   "metadata": {},
   "outputs": [
    {
     "data": {
      "text/plain": [
       "0.2213740458015267"
      ]
     },
     "execution_count": 12,
     "metadata": {},
     "output_type": "execute_result"
    }
   ],
   "source": [
    "L_q = p4 + p5 + p6\n",
    "L_q"
   ]
  },
  {
   "cell_type": "code",
   "execution_count": 13,
   "id": "5a084b76-5cab-4c2f-be83-340bfd837a73",
   "metadata": {},
   "outputs": [
    {
     "data": {
      "text/plain": [
       "0.6391184573002754"
      ]
     },
     "execution_count": 13,
     "metadata": {},
     "output_type": "execute_result"
    }
   ],
   "source": [
    "W_q = L_q / A\n",
    "W_q"
   ]
  },
  {
   "cell_type": "code",
   "execution_count": 14,
   "id": "60db4679-35b6-492a-9a0a-f3e7110e0076",
   "metadata": {},
   "outputs": [
    {
     "data": {
      "text/plain": [
       "1.66412213740458"
      ]
     },
     "execution_count": 14,
     "metadata": {},
     "output_type": "execute_result"
    }
   ],
   "source": [
    "L_s = p3 + p10 + p8 + 2*p9 + 2*p7 + 2*p5 + 3*p6 + 3*p4\n",
    "L_s"
   ]
  },
  {
   "cell_type": "code",
   "execution_count": 19,
   "id": "a841725f-fed6-4707-93a1-7fda0304c33e",
   "metadata": {},
   "outputs": [
    {
     "data": {
      "text/plain": [
       "3.32824427480916"
      ]
     },
     "execution_count": 19,
     "metadata": {},
     "output_type": "execute_result"
    }
   ],
   "source": [
    "W_s = L_s / 0.5\n",
    "W_s"
   ]
  },
  {
   "cell_type": "code",
   "execution_count": 16,
   "id": "8848d06d-9dc8-4bf6-b00b-b3e2cafcd8c9",
   "metadata": {},
   "outputs": [
    {
     "data": {
      "text/plain": [
       "0.75"
      ]
     },
     "execution_count": 16,
     "metadata": {},
     "output_type": "execute_result"
    }
   ],
   "source": [
    "K_1 = p3 + p10 +p7 + p9 +p6 +p4\n",
    "K_1"
   ]
  },
  {
   "cell_type": "code",
   "execution_count": 18,
   "id": "b7e9f621-91b5-41a3-a5f5-95dac62691fd",
   "metadata": {},
   "outputs": [
    {
     "data": {
      "text/plain": [
       "0.6927480916030534"
      ]
     },
     "execution_count": 18,
     "metadata": {},
     "output_type": "execute_result"
    }
   ],
   "source": [
    "K_2 = p8 + p5 + p7 + p6 + p4 + p9\n",
    "K_2"
   ]
  }
 ],
 "metadata": {
  "kernelspec": {
   "display_name": "Python 3 (ipykernel)",
   "language": "python",
   "name": "python3"
  },
  "language_info": {
   "codemirror_mode": {
    "name": "ipython",
    "version": 3
   },
   "file_extension": ".py",
   "mimetype": "text/x-python",
   "name": "python",
   "nbconvert_exporter": "python",
   "pygments_lexer": "ipython3",
   "version": "3.11.6"
  }
 },
 "nbformat": 4,
 "nbformat_minor": 5
}
