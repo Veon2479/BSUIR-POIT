{
 "cells": [
  {
   "cell_type": "markdown",
   "id": "18735f12",
   "metadata": {},
   "source": [
    "<h1>What to do:</h1>\n",
    "<ul>\n",
    "    <li>Вероятность ложной тревоги</li>\n",
    "    <li>Вероятность пропуска обнаружения ошибки</li>\n",
    "    <li>Вероятность суммарной ошибки классификации</li>\n",
    "</ul>\n",
    "<h2>Input:</h2>\n",
    "<ul>\n",
    "    <li>2 СВ с нормальным распределением</li>\n",
    "    <li>2 вероятности отнесения каждой из 2 случайных величин к первому из 2 классов (сумма равна 1)</li>\n",
    "</ul>"
   ]
  },
  {
   "cell_type": "markdown",
   "id": "47aa3760",
   "metadata": {},
   "source": [
    "<h3>Imports</h3>"
   ]
  },
  {
   "cell_type": "code",
   "execution_count": 1,
   "id": "17d8e652",
   "metadata": {},
   "outputs": [],
   "source": [
    "import numpy as np\n",
    "import matplotlib.pyplot as plt\n",
    "import copy\n",
    "import gif\n",
    "from IPython.display import Image\n",
    "import random\n",
    "from datetime import datetime\n",
    "import collections.abc\n",
    "from ipywidgets import interact, interactive, fixed, interact_manual\n",
    "import ipywidgets as widgets\n",
    "from sage.repl.ipython_kernel.interact import *\n",
    "import ipywidgets as w\n",
    "from scipy.stats import truncnorm\n",
    "import scipy.stats as stats\n",
    "from math import ceil"
   ]
  },
  {
   "cell_type": "markdown",
   "id": "fd697dcd",
   "metadata": {},
   "source": [
    "<h3>Constants</h3>"
   ]
  },
  {
   "cell_type": "code",
   "execution_count": 2,
   "id": "04960d33",
   "metadata": {},
   "outputs": [],
   "source": [
    "points = 100000;\n",
    "start1 = 100; end1 = 740;\n",
    "start2 = -100; end2 = 540;\n",
    "coeff = 440000;\n",
    "xOffset = 600;\n",
    "width = 1000; height = 1000;"
   ]
  },
  {
   "cell_type": "markdown",
   "id": "ee029af5-ae5d-4b3b-b0c7-bdce0389a987",
   "metadata": {},
   "source": [
    "<h3>Core</h3>"
   ]
  },
  {
   "cell_type": "code",
   "execution_count": 4,
   "id": "0af811db-3550-4840-bc0e-eaae92e80d9b",
   "metadata": {
    "tags": []
   },
   "outputs": [
    {
     "data": {
      "application/vnd.jupyter.widget-view+json": {
       "model_id": "f8a93f11144e41c8848af90e3be2fdc1",
       "version_major": 2,
       "version_minor": 0
      },
      "text/plain": [
       "HBox(children=(VBox(children=(FloatSlider(value=0.0, description='alpha', max=1.0, step=0.01),)), Output()))"
      ]
     },
     "execution_count": 4,
     "metadata": {},
     "output_type": "execute_result"
    }
   ],
   "source": [
    "def get_truncated_normal(mean, sd, low, upp):\n",
    "    return truncnorm(\n",
    "        (low - mean) / sd, (upp - mean) / sd, loc=mean, scale=sd)\n",
    "\n",
    "def get_normalized_bins(bins, count):\n",
    "    res = [0] * 102\n",
    "    for i in range(len(count)):\n",
    "        idx = ceil(bins[i])\n",
    "        if 0 <= idx <= 100:\n",
    "            res[idx] += count[i]\n",
    "    return res\n",
    "\n",
    "def update_plot(alpha):\n",
    "    left = 0\n",
    "    right = 100\n",
    "    bot = 0\n",
    "    top = 100\n",
    "    stepCount = 200000\n",
    "    x = np.linspace(left, right, stepCount)\n",
    "    yd = 0 * x\n",
    "    plt.plot(x, yd, linewidth=0)\n",
    "    \n",
    "    # generate points of means of each of 2 distributions, standart deviation\n",
    "    mx1 = (right - left) * alpha / 2\n",
    "    mx2 = ( (right - left) * (1 - alpha) / 2 ) + 2 * mx1\n",
    "    \n",
    "    sd1 = randint(10, 15)\n",
    "    sd2 = randint(10, 15)\n",
    "    \n",
    "    g1 = get_truncated_normal(mean=mx1, sd=sd1, low=left, upp=right)\n",
    "    g2 = get_truncated_normal(mean=mx2, sd=sd2, low=left, upp=right)\n",
    "    \n",
    "    # generate data according to 2 distributions\n",
    "    \n",
    "    \n",
    "    data1 = g1.rvs(points)\n",
    "    data2 = g2.rvs(points)\n",
    "    \n",
    "    \n",
    "\n",
    "    count1, bins1, ignored1 = plt.hist(data1, 100, alpha=0.5, density=True);\n",
    "    count2, bins2, ignored2 = plt.hist(data2, 100, alpha=0.5, density=True);\n",
    "\n",
    "    \n",
    "    nd1 = get_normalized_bins(bins1, count1)\n",
    "    nd2 = get_normalized_bins(bins2, count2)\n",
    "    idx = 0\n",
    " \n",
    "    for i in range(20, 100):\n",
    "        if nd1[i] < nd2[i]:\n",
    "            idx = i\n",
    "            break\n",
    "    plt.axvline(idx)\n",
    "    \n",
    "    wa = 0\n",
    "    wd = 0\n",
    "    \n",
    "    i = 0\n",
    "    while true:\n",
    "        if bins2[i] < idx:\n",
    "            wa += count2[i]\n",
    "        else:\n",
    "            break\n",
    "        i += 1\n",
    "\n",
    "    i = 0    \n",
    "    while true:\n",
    "        if i == len(count1) or i == len(bins1):\n",
    "            break\n",
    "        if bins1[i] >= idx:\n",
    "            wd += count1[i]\n",
    "        i += 1\n",
    "    \n",
    "    if alpha == 1:\n",
    "        alpha -= 1e-20\n",
    "    if alpha == 0:\n",
    "        alpha += 1e-20\n",
    "    \n",
    "    wa *= (1-alpha)\n",
    "    wd *= alpha\n",
    "    \n",
    "    wt = wa + wd\n",
    "    \n",
    "    print(f\"Wrong accept: {wa}\")\n",
    "    print(f\"Wrong decline: {wd}\")\n",
    "    print(f\"Wrong total: {wt}\")\n",
    "                                \n",
    "        \n",
    "    plt.axvline(mx1, color='b')\n",
    "    plt.axvline(mx2, color='r')\n",
    "    \n",
    "\n",
    "def build_ui():\n",
    "    sliders = [1]\n",
    "    alpha = sliders[0] = w.FloatSlider(min=0, max=1, step=0.01, description='alpha')\n",
    "    controls = w.VBox(sliders)\n",
    "    plot = w.interactive_output(update_plot, {'alpha':alpha})\n",
    "    ui = w.HBox([controls, plot])\n",
    "    return ui\n",
    "\n",
    "build_ui()"
   ]
  }
 ],
 "metadata": {
  "kernelspec": {
   "display_name": "SageMath 9.8",
   "language": "sage",
   "name": "sagemath"
  },
  "language_info": {
   "codemirror_mode": {
    "name": "ipython",
    "version": 3
   },
   "file_extension": ".py",
   "mimetype": "text/x-python",
   "name": "python",
   "nbconvert_exporter": "python",
   "pygments_lexer": "ipython3",
   "version": "3.10.10"
  }
 },
 "nbformat": 4,
 "nbformat_minor": 5
}
